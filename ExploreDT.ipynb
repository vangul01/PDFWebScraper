{
 "cells": [
  {
   "cell_type": "markdown",
   "metadata": {},
   "source": [
    "TO DEBUG:\n",
    "\tduplicate values, some with different sums in DT song collection\n",
    "    \n",
    "    NO MORE! because no composers"
   ]
  },
  {
   "cell_type": "code",
   "execution_count": 1,
   "metadata": {},
   "outputs": [],
   "source": [
    "import pandas as pd\n",
    "import numpy as np\n",
    "import csv"
   ]
  },
  {
   "cell_type": "code",
   "execution_count": 2,
   "metadata": {},
   "outputs": [],
   "source": [
    "filename = 'dtFullSongs.csv'\n",
    "df = pd.read_csv(filename, header = 0, delimiter= ',', index_col = False)\n",
    "df = df.drop(['#'], axis = 1)"
   ]
  },
  {
   "cell_type": "code",
   "execution_count": 3,
   "metadata": {},
   "outputs": [
    {
     "data": {
      "text/html": [
       "<div>\n",
       "<style scoped>\n",
       "    .dataframe tbody tr th:only-of-type {\n",
       "        vertical-align: middle;\n",
       "    }\n",
       "\n",
       "    .dataframe tbody tr th {\n",
       "        vertical-align: top;\n",
       "    }\n",
       "\n",
       "    .dataframe thead th {\n",
       "        text-align: right;\n",
       "    }\n",
       "</style>\n",
       "<table border=\"1\" class=\"dataframe\">\n",
       "  <thead>\n",
       "    <tr style=\"text-align: right;\">\n",
       "      <th></th>\n",
       "      <th>Song Code</th>\n",
       "      <th>Song Title</th>\n",
       "      <th>MechCollectShare</th>\n",
       "      <th>TUDTCREATED</th>\n",
       "      <th>SumIncome</th>\n",
       "    </tr>\n",
       "  </thead>\n",
       "  <tbody>\n",
       "    <tr>\n",
       "      <th>0</th>\n",
       "      <td>120085</td>\n",
       "      <td>RUSH - CUES</td>\n",
       "      <td>100.0</td>\n",
       "      <td>2014-05-14 12:10:43.000</td>\n",
       "      <td>832711.00</td>\n",
       "    </tr>\n",
       "    <tr>\n",
       "      <th>1</th>\n",
       "      <td>361853</td>\n",
       "      <td>THE LITTLE PRINCE CUES</td>\n",
       "      <td>100.0</td>\n",
       "      <td>2015-08-25 16:40:11.000</td>\n",
       "      <td>141746.91</td>\n",
       "    </tr>\n",
       "    <tr>\n",
       "      <th>2</th>\n",
       "      <td>650152</td>\n",
       "      <td>Victorious</td>\n",
       "      <td>20.0</td>\n",
       "      <td>2016-07-27 17:01:21.980</td>\n",
       "      <td>42093.64</td>\n",
       "    </tr>\n",
       "    <tr>\n",
       "      <th>3</th>\n",
       "      <td>204208</td>\n",
       "      <td>I'll Never Forget You</td>\n",
       "      <td>100.0</td>\n",
       "      <td>2014-09-23 11:47:45.000</td>\n",
       "      <td>40840.44</td>\n",
       "    </tr>\n",
       "    <tr>\n",
       "      <th>4</th>\n",
       "      <td>123720</td>\n",
       "      <td>LOVE YOU LIKE A LOVE SONG</td>\n",
       "      <td>60.0</td>\n",
       "      <td>2014-05-14 12:37:36.000</td>\n",
       "      <td>24951.21</td>\n",
       "    </tr>\n",
       "  </tbody>\n",
       "</table>\n",
       "</div>"
      ],
      "text/plain": [
       "   Song Code                 Song Title  MechCollectShare  \\\n",
       "0     120085                RUSH - CUES             100.0   \n",
       "1     361853     THE LITTLE PRINCE CUES             100.0   \n",
       "2     650152                 Victorious              20.0   \n",
       "3     204208      I'll Never Forget You             100.0   \n",
       "4     123720  LOVE YOU LIKE A LOVE SONG              60.0   \n",
       "\n",
       "               TUDTCREATED  SumIncome  \n",
       "0  2014-05-14 12:10:43.000  832711.00  \n",
       "1  2015-08-25 16:40:11.000  141746.91  \n",
       "2  2016-07-27 17:01:21.980   42093.64  \n",
       "3  2014-09-23 11:47:45.000   40840.44  \n",
       "4  2014-05-14 12:37:36.000   24951.21  "
      ]
     },
     "execution_count": 3,
     "metadata": {},
     "output_type": "execute_result"
    }
   ],
   "source": [
    "df.head()"
   ]
  },
  {
   "cell_type": "code",
   "execution_count": 4,
   "metadata": {},
   "outputs": [],
   "source": [
    "df = df.rename(index =str, columns = {'Song Code' : 'song_code', \n",
    "                                      'Song Title' : 'song_title', \n",
    "                                      #'TUCOMP' : 'composer', \n",
    "                                      'MechCollectShare' : 'mech_share', \n",
    "                                      #'Unnamed: 5' : 'date_created',\n",
    "                                      'TUDTCREATED' : 'date_created',\n",
    "                                      'SumIncome' : 'sum_income'})"
   ]
  },
  {
   "cell_type": "code",
   "execution_count": 5,
   "metadata": {},
   "outputs": [
    {
     "data": {
      "text/html": [
       "<div>\n",
       "<style scoped>\n",
       "    .dataframe tbody tr th:only-of-type {\n",
       "        vertical-align: middle;\n",
       "    }\n",
       "\n",
       "    .dataframe tbody tr th {\n",
       "        vertical-align: top;\n",
       "    }\n",
       "\n",
       "    .dataframe thead th {\n",
       "        text-align: right;\n",
       "    }\n",
       "</style>\n",
       "<table border=\"1\" class=\"dataframe\">\n",
       "  <thead>\n",
       "    <tr style=\"text-align: right;\">\n",
       "      <th></th>\n",
       "      <th>song_code</th>\n",
       "      <th>song_title</th>\n",
       "      <th>mech_share</th>\n",
       "      <th>date_created</th>\n",
       "      <th>sum_income</th>\n",
       "    </tr>\n",
       "  </thead>\n",
       "  <tbody>\n",
       "    <tr>\n",
       "      <th>0</th>\n",
       "      <td>120085</td>\n",
       "      <td>RUSH - CUES</td>\n",
       "      <td>100.0</td>\n",
       "      <td>2014-05-14 12:10:43.000</td>\n",
       "      <td>832711.00</td>\n",
       "    </tr>\n",
       "    <tr>\n",
       "      <th>1</th>\n",
       "      <td>361853</td>\n",
       "      <td>THE LITTLE PRINCE CUES</td>\n",
       "      <td>100.0</td>\n",
       "      <td>2015-08-25 16:40:11.000</td>\n",
       "      <td>141746.91</td>\n",
       "    </tr>\n",
       "    <tr>\n",
       "      <th>2</th>\n",
       "      <td>650152</td>\n",
       "      <td>Victorious</td>\n",
       "      <td>20.0</td>\n",
       "      <td>2016-07-27 17:01:21.980</td>\n",
       "      <td>42093.64</td>\n",
       "    </tr>\n",
       "    <tr>\n",
       "      <th>3</th>\n",
       "      <td>204208</td>\n",
       "      <td>I'll Never Forget You</td>\n",
       "      <td>100.0</td>\n",
       "      <td>2014-09-23 11:47:45.000</td>\n",
       "      <td>40840.44</td>\n",
       "    </tr>\n",
       "    <tr>\n",
       "      <th>4</th>\n",
       "      <td>123720</td>\n",
       "      <td>LOVE YOU LIKE A LOVE SONG</td>\n",
       "      <td>60.0</td>\n",
       "      <td>2014-05-14 12:37:36.000</td>\n",
       "      <td>24951.21</td>\n",
       "    </tr>\n",
       "  </tbody>\n",
       "</table>\n",
       "</div>"
      ],
      "text/plain": [
       "   song_code                 song_title  mech_share             date_created  \\\n",
       "0     120085                RUSH - CUES       100.0  2014-05-14 12:10:43.000   \n",
       "1     361853     THE LITTLE PRINCE CUES       100.0  2015-08-25 16:40:11.000   \n",
       "2     650152                 Victorious        20.0  2016-07-27 17:01:21.980   \n",
       "3     204208      I'll Never Forget You       100.0  2014-09-23 11:47:45.000   \n",
       "4     123720  LOVE YOU LIKE A LOVE SONG        60.0  2014-05-14 12:37:36.000   \n",
       "\n",
       "   sum_income  \n",
       "0   832711.00  \n",
       "1   141746.91  \n",
       "2    42093.64  \n",
       "3    40840.44  \n",
       "4    24951.21  "
      ]
     },
     "execution_count": 5,
     "metadata": {},
     "output_type": "execute_result"
    }
   ],
   "source": [
    "df.head()"
   ]
  },
  {
   "cell_type": "markdown",
   "metadata": {},
   "source": [
    "DROPPIN DUPS "
   ]
  },
  {
   "cell_type": "code",
   "execution_count": 6,
   "metadata": {},
   "outputs": [
    {
     "data": {
      "text/plain": [
       "0"
      ]
     },
     "execution_count": 6,
     "metadata": {},
     "output_type": "execute_result"
    }
   ],
   "source": [
    "## Count duplicates of a Song Code ## THIS IS VERY IMPORTANT TO KNOW!!! :) \n",
    "# 19\n",
    "df.duplicated(['song_code', 'song_title', 'mech_share']).sum()"
   ]
  },
  {
   "cell_type": "code",
   "execution_count": 7,
   "metadata": {},
   "outputs": [
    {
     "data": {
      "text/plain": [
       "0"
      ]
     },
     "execution_count": 7,
     "metadata": {},
     "output_type": "execute_result"
    }
   ],
   "source": [
    "df.duplicated(['song_code']).sum()"
   ]
  },
  {
   "cell_type": "code",
   "execution_count": 8,
   "metadata": {},
   "outputs": [
    {
     "data": {
      "text/html": [
       "<div>\n",
       "<style scoped>\n",
       "    .dataframe tbody tr th:only-of-type {\n",
       "        vertical-align: middle;\n",
       "    }\n",
       "\n",
       "    .dataframe tbody tr th {\n",
       "        vertical-align: top;\n",
       "    }\n",
       "\n",
       "    .dataframe thead th {\n",
       "        text-align: right;\n",
       "    }\n",
       "</style>\n",
       "<table border=\"1\" class=\"dataframe\">\n",
       "  <thead>\n",
       "    <tr style=\"text-align: right;\">\n",
       "      <th></th>\n",
       "      <th>song_code</th>\n",
       "      <th>song_title</th>\n",
       "      <th>mech_share</th>\n",
       "      <th>date_created</th>\n",
       "      <th>sum_income</th>\n",
       "    </tr>\n",
       "  </thead>\n",
       "  <tbody>\n",
       "  </tbody>\n",
       "</table>\n",
       "</div>"
      ],
      "text/plain": [
       "Empty DataFrame\n",
       "Columns: [song_code, song_title, mech_share, date_created, sum_income]\n",
       "Index: []"
      ]
     },
     "execution_count": 8,
     "metadata": {},
     "output_type": "execute_result"
    }
   ],
   "source": [
    "# all duplicated songs that have different sum incomes\n",
    "df[df.duplicated(['song_code'], keep=False)]"
   ]
  },
  {
   "cell_type": "code",
   "execution_count": 9,
   "metadata": {},
   "outputs": [
    {
     "data": {
      "text/plain": [
       "0"
      ]
     },
     "execution_count": 9,
     "metadata": {},
     "output_type": "execute_result"
    }
   ],
   "source": [
    "df = df.drop_duplicates(['song_code', 'song_title','mech_share', 'sum_income'])\n",
    "df.duplicated(['song_code', 'song_title','mech_share', 'sum_income']).sum()"
   ]
  },
  {
   "cell_type": "code",
   "execution_count": 10,
   "metadata": {},
   "outputs": [],
   "source": [
    "#check the one thats kept\n",
    "#df.iloc[80, 0:]"
   ]
  },
  {
   "cell_type": "code",
   "execution_count": 11,
   "metadata": {},
   "outputs": [],
   "source": [
    "## duplicate songs that don't match on sum_income = 4\n",
    "# for these maybe i can add their sums together, I should do this before computing earnings tho\n",
    "#df.duplicated(['Song Code', 'Song Title', 'MechCollectShare']).sum()"
   ]
  },
  {
   "cell_type": "code",
   "execution_count": 12,
   "metadata": {},
   "outputs": [],
   "source": [
    "# all duplicated songs that have different sum incomes\n",
    "# df[df.duplicated(['Song Code'], keep=False)]"
   ]
  },
  {
   "cell_type": "code",
   "execution_count": 13,
   "metadata": {},
   "outputs": [],
   "source": [
    "#df.isnull().sum()"
   ]
  },
  {
   "cell_type": "markdown",
   "metadata": {},
   "source": [
    "CREATE NEW EARNINGS COLUMN"
   ]
  },
  {
   "cell_type": "code",
   "execution_count": 14,
   "metadata": {},
   "outputs": [],
   "source": [
    "# calc actual earnings\n",
    "df['total_song_earnings'] = ((df['sum_income'] * 100) / df['mech_share'])\n",
    "df = df.sort_values(by =['total_song_earnings'], ascending = False)"
   ]
  },
  {
   "cell_type": "code",
   "execution_count": 15,
   "metadata": {
    "scrolled": true
   },
   "outputs": [
    {
     "data": {
      "text/html": [
       "<div>\n",
       "<style scoped>\n",
       "    .dataframe tbody tr th:only-of-type {\n",
       "        vertical-align: middle;\n",
       "    }\n",
       "\n",
       "    .dataframe tbody tr th {\n",
       "        vertical-align: top;\n",
       "    }\n",
       "\n",
       "    .dataframe thead th {\n",
       "        text-align: right;\n",
       "    }\n",
       "</style>\n",
       "<table border=\"1\" class=\"dataframe\">\n",
       "  <thead>\n",
       "    <tr style=\"text-align: right;\">\n",
       "      <th></th>\n",
       "      <th>song_code</th>\n",
       "      <th>song_title</th>\n",
       "      <th>mech_share</th>\n",
       "      <th>date_created</th>\n",
       "      <th>sum_income</th>\n",
       "      <th>total_song_earnings</th>\n",
       "    </tr>\n",
       "  </thead>\n",
       "  <tbody>\n",
       "    <tr>\n",
       "      <th>0</th>\n",
       "      <td>120085</td>\n",
       "      <td>RUSH - CUES</td>\n",
       "      <td>100.0</td>\n",
       "      <td>2014-05-14 12:10:43.000</td>\n",
       "      <td>832711.00</td>\n",
       "      <td>832711.00</td>\n",
       "    </tr>\n",
       "    <tr>\n",
       "      <th>2</th>\n",
       "      <td>650152</td>\n",
       "      <td>VICTORIOUS</td>\n",
       "      <td>20.0</td>\n",
       "      <td>2016-07-27 17:01:21.980</td>\n",
       "      <td>42093.64</td>\n",
       "      <td>210468.20</td>\n",
       "    </tr>\n",
       "    <tr>\n",
       "      <th>22</th>\n",
       "      <td>12482</td>\n",
       "      <td>HANDS UP FOR DETROIT</td>\n",
       "      <td>5.0</td>\n",
       "      <td>2015-01-28 12:54:02.000</td>\n",
       "      <td>8681.00</td>\n",
       "      <td>173620.00</td>\n",
       "    </tr>\n",
       "    <tr>\n",
       "      <th>23</th>\n",
       "      <td>2238526</td>\n",
       "      <td>GET IT ON TONITE</td>\n",
       "      <td>5.0</td>\n",
       "      <td>2017-10-11 15:40:52.220</td>\n",
       "      <td>8571.18</td>\n",
       "      <td>171423.60</td>\n",
       "    </tr>\n",
       "    <tr>\n",
       "      <th>1</th>\n",
       "      <td>361853</td>\n",
       "      <td>THE LITTLE PRINCE CUES</td>\n",
       "      <td>100.0</td>\n",
       "      <td>2015-08-25 16:40:11.000</td>\n",
       "      <td>141746.91</td>\n",
       "      <td>141746.91</td>\n",
       "    </tr>\n",
       "  </tbody>\n",
       "</table>\n",
       "</div>"
      ],
      "text/plain": [
       "    song_code              song_title  mech_share             date_created  \\\n",
       "0      120085             RUSH - CUES       100.0  2014-05-14 12:10:43.000   \n",
       "2      650152              VICTORIOUS        20.0  2016-07-27 17:01:21.980   \n",
       "22      12482    HANDS UP FOR DETROIT         5.0  2015-01-28 12:54:02.000   \n",
       "23    2238526        GET IT ON TONITE         5.0  2017-10-11 15:40:52.220   \n",
       "1      361853  THE LITTLE PRINCE CUES       100.0  2015-08-25 16:40:11.000   \n",
       "\n",
       "    sum_income  total_song_earnings  \n",
       "0    832711.00            832711.00  \n",
       "2     42093.64            210468.20  \n",
       "22     8681.00            173620.00  \n",
       "23     8571.18            171423.60  \n",
       "1    141746.91            141746.91  "
      ]
     },
     "execution_count": 15,
     "metadata": {},
     "output_type": "execute_result"
    }
   ],
   "source": [
    "df['song_title'] = df['song_title'].str.strip().str.upper()\n",
    "#df['composer'] = df['composer'].str.strip().str.upper()\n",
    "\n",
    "df.head()"
   ]
  },
  {
   "cell_type": "code",
   "execution_count": 16,
   "metadata": {},
   "outputs": [],
   "source": [
    "df.to_csv('full_songs.csv')"
   ]
  },
  {
   "cell_type": "code",
   "execution_count": 17,
   "metadata": {},
   "outputs": [],
   "source": [
    "#df['Total'] = df.groupby(['Song Code', 'Sum Income'])#['Sum Income'].transform('sum')\n",
    "#df = df.groupby(['Song Code', 'Song Title', 'MechCollectShare']).sum()#['Sum Income'].transform('sum')\n",
    "\n",
    "#df.groupby(['Fruit','Name']).sum()\n",
    "#zoo.groupby('animal').mean()[['water_need']] (This returns a DataFrame object.)\n",
    "#test = df.groupby(['Song Code', 'Song Title']).sum()[['Sum Income']].sort_values(['Sum Income'], ascending = False)\n"
   ]
  },
  {
   "cell_type": "code",
   "execution_count": null,
   "metadata": {},
   "outputs": [],
   "source": []
  }
 ],
 "metadata": {
  "kernelspec": {
   "display_name": "Python 3",
   "language": "python",
   "name": "python3"
  },
  "language_info": {
   "codemirror_mode": {
    "name": "ipython",
    "version": 3
   },
   "file_extension": ".py",
   "mimetype": "text/x-python",
   "name": "python",
   "nbconvert_exporter": "python",
   "pygments_lexer": "ipython3",
   "version": "3.7.0"
  }
 },
 "nbformat": 4,
 "nbformat_minor": 2
}
